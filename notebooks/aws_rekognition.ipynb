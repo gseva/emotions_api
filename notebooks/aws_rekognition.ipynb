{
 "cells": [
  {
   "cell_type": "code",
   "execution_count": 2,
   "metadata": {
    "ExecuteTime": {
     "end_time": "2021-02-19T02:03:52.060804Z",
     "start_time": "2021-02-19T02:03:51.869137Z"
    }
   },
   "outputs": [],
   "source": [
    "import boto3"
   ]
  },
  {
   "cell_type": "code",
   "execution_count": 3,
   "metadata": {
    "ExecuteTime": {
     "end_time": "2021-02-19T02:03:52.433012Z",
     "start_time": "2021-02-19T02:03:52.182776Z"
    }
   },
   "outputs": [],
   "source": [
    "session = boto3.Session(profile_name='personal')\n",
    "rekognition_client = session.client('rekognition', region_name='us-east-2')"
   ]
  },
  {
   "cell_type": "code",
   "execution_count": 1,
   "metadata": {
    "ExecuteTime": {
     "end_time": "2021-02-19T02:02:18.618741Z",
     "start_time": "2021-02-19T02:02:18.609245Z"
    }
   },
   "outputs": [],
   "source": [
    "with open('../assets/images/happiness.jpg', 'rb') as f:\n",
    "    image_bytes = f.read()"
   ]
  },
  {
   "cell_type": "code",
   "execution_count": 4,
   "metadata": {
    "ExecuteTime": {
     "end_time": "2021-02-19T02:03:55.706852Z",
     "start_time": "2021-02-19T02:03:53.914489Z"
    }
   },
   "outputs": [],
   "source": [
    "response = rekognition_client.detect_faces(\n",
    "    Image={'Bytes': image_bytes},\n",
    "    Attributes=['ALL']\n",
    ")"
   ]
  },
  {
   "cell_type": "code",
   "execution_count": 5,
   "metadata": {
    "ExecuteTime": {
     "end_time": "2021-02-19T02:03:56.166292Z",
     "start_time": "2021-02-19T02:03:56.147894Z"
    }
   },
   "outputs": [
    {
     "data": {
      "text/plain": [
       "{'FaceDetails': [{'BoundingBox': {'Width': 0.5052152872085571,\n",
       "    'Height': 0.7009648084640503,\n",
       "    'Left': 0.2665513753890991,\n",
       "    'Top': 0.12505298852920532},\n",
       "   'AgeRange': {'Low': 23, 'High': 35},\n",
       "   'Smile': {'Value': True, 'Confidence': 99.84452056884766},\n",
       "   'Eyeglasses': {'Value': False, 'Confidence': 93.156982421875},\n",
       "   'Sunglasses': {'Value': False, 'Confidence': 99.12419128417969},\n",
       "   'Gender': {'Value': 'Female', 'Confidence': 84.87661743164062},\n",
       "   'Beard': {'Value': False, 'Confidence': 98.41683197021484},\n",
       "   'Mustache': {'Value': False, 'Confidence': 99.44841003417969},\n",
       "   'EyesOpen': {'Value': True, 'Confidence': 98.50049591064453},\n",
       "   'MouthOpen': {'Value': True, 'Confidence': 99.71347045898438},\n",
       "   'Emotions': [{'Type': 'HAPPY', 'Confidence': 98.02332305908203},\n",
       "    {'Type': 'SURPRISED', 'Confidence': 0.4820031523704529},\n",
       "    {'Type': 'FEAR', 'Confidence': 0.41370725631713867},\n",
       "    {'Type': 'ANGRY', 'Confidence': 0.3769048750400543},\n",
       "    {'Type': 'DISGUSTED', 'Confidence': 0.2959006428718567},\n",
       "    {'Type': 'CONFUSED', 'Confidence': 0.2704017162322998},\n",
       "    {'Type': 'SAD', 'Confidence': 0.08125089108943939},\n",
       "    {'Type': 'CALM', 'Confidence': 0.056507404893636703}],\n",
       "   'Landmarks': [{'Type': 'eyeLeft',\n",
       "     'X': 0.43430882692337036,\n",
       "     'Y': 0.42584317922592163},\n",
       "    {'Type': 'eyeRight', 'X': 0.6652644872665405, 'Y': 0.41568276286125183},\n",
       "    {'Type': 'mouthLeft', 'X': 0.4592188894748688, 'Y': 0.6578821539878845},\n",
       "    {'Type': 'mouthRight', 'X': 0.6520207524299622, 'Y': 0.6489948034286499},\n",
       "    {'Type': 'nose', 'X': 0.5705345273017883, 'Y': 0.5456238389015198},\n",
       "    {'Type': 'leftEyeBrowLeft',\n",
       "     'X': 0.3398784399032593,\n",
       "     'Y': 0.37425169348716736},\n",
       "    {'Type': 'leftEyeBrowRight',\n",
       "     'X': 0.41605550050735474,\n",
       "     'Y': 0.34377050399780273},\n",
       "    {'Type': 'leftEyeBrowUp',\n",
       "     'X': 0.48646387457847595,\n",
       "     'Y': 0.3534126579761505},\n",
       "    {'Type': 'rightEyeBrowLeft',\n",
       "     'X': 0.6181833148002625,\n",
       "     'Y': 0.34797781705856323},\n",
       "    {'Type': 'rightEyeBrowRight',\n",
       "     'X': 0.6813386082649231,\n",
       "     'Y': 0.3326539099216461},\n",
       "    {'Type': 'rightEyeBrowUp',\n",
       "     'X': 0.7403842210769653,\n",
       "     'Y': 0.35680729150772095},\n",
       "    {'Type': 'leftEyeLeft', 'X': 0.39067649841308594, 'Y': 0.426253080368042},\n",
       "    {'Type': 'leftEyeRight',\n",
       "     'X': 0.47953006625175476,\n",
       "     'Y': 0.42567718029022217},\n",
       "    {'Type': 'leftEyeUp', 'X': 0.43411093950271606, 'Y': 0.41391533613204956},\n",
       "    {'Type': 'leftEyeDown', 'X': 0.4353586435317993, 'Y': 0.4359279274940491},\n",
       "    {'Type': 'rightEyeLeft',\n",
       "     'X': 0.6188812255859375,\n",
       "     'Y': 0.41960734128952026},\n",
       "    {'Type': 'rightEyeRight',\n",
       "     'X': 0.7032238245010376,\n",
       "     'Y': 0.4125068783760071},\n",
       "    {'Type': 'rightEyeUp', 'X': 0.6657723188400269, 'Y': 0.403800368309021},\n",
       "    {'Type': 'rightEyeDown', 'X': 0.663882315158844, 'Y': 0.4258187711238861},\n",
       "    {'Type': 'noseLeft', 'X': 0.5163505673408508, 'Y': 0.57284015417099},\n",
       "    {'Type': 'noseRight', 'X': 0.6014012098312378, 'Y': 0.5691382884979248},\n",
       "    {'Type': 'mouthUp', 'X': 0.5619538426399231, 'Y': 0.6265103220939636},\n",
       "    {'Type': 'mouthDown', 'X': 0.5611363053321838, 'Y': 0.6967039108276367},\n",
       "    {'Type': 'leftPupil', 'X': 0.43430882692337036, 'Y': 0.42584317922592163},\n",
       "    {'Type': 'rightPupil', 'X': 0.6652644872665405, 'Y': 0.41568276286125183},\n",
       "    {'Type': 'upperJawlineLeft',\n",
       "     'X': 0.2689777910709381,\n",
       "     'Y': 0.43248918652534485},\n",
       "    {'Type': 'midJawlineLeft',\n",
       "     'X': 0.32709571719169617,\n",
       "     'Y': 0.6843194961547852},\n",
       "    {'Type': 'chinBottom', 'X': 0.5565875768661499, 'Y': 0.8177733421325684},\n",
       "    {'Type': 'midJawlineRight',\n",
       "     'X': 0.7334647178649902,\n",
       "     'Y': 0.6667684316635132},\n",
       "    {'Type': 'upperJawlineRight',\n",
       "     'X': 0.7705382704734802,\n",
       "     'Y': 0.41105642914772034}],\n",
       "   'Pose': {'Roll': -2.339012384414673,\n",
       "    'Yaw': 6.115211009979248,\n",
       "    'Pitch': 1.5992066860198975},\n",
       "   'Quality': {'Brightness': 84.80684661865234,\n",
       "    'Sharpness': 92.22801208496094},\n",
       "   'Confidence': 99.99974060058594}],\n",
       " 'ResponseMetadata': {'RequestId': 'e417fe83-c4c1-4dac-919a-fd394a12bbc0',\n",
       "  'HTTPStatusCode': 200,\n",
       "  'HTTPHeaders': {'content-type': 'application/x-amz-json-1.1',\n",
       "   'date': 'Fri, 19 Feb 2021 02:03:54 GMT',\n",
       "   'x-amzn-requestid': 'e417fe83-c4c1-4dac-919a-fd394a12bbc0',\n",
       "   'content-length': '3351',\n",
       "   'connection': 'keep-alive'},\n",
       "  'RetryAttempts': 0}}"
      ]
     },
     "execution_count": 5,
     "metadata": {},
     "output_type": "execute_result"
    }
   ],
   "source": [
    "response"
   ]
  },
  {
   "cell_type": "code",
   "execution_count": 15,
   "metadata": {
    "ExecuteTime": {
     "end_time": "2020-12-14T04:17:17.470347Z",
     "start_time": "2020-12-14T04:17:17.459819Z"
    }
   },
   "outputs": [
    {
     "name": "stdout",
     "output_type": "stream",
     "text": [
      "HAPPY Confidence: 98.02332305908203\n",
      "SURPRISED Confidence: 0.4820031523704529\n",
      "FEAR Confidence: 0.41370725631713867\n",
      "ANGRY Confidence: 0.3769048750400543\n",
      "DISGUSTED Confidence: 0.2959006428718567\n",
      "CONFUSED Confidence: 0.2704017162322998\n",
      "SAD Confidence: 0.08125089108943939\n",
      "CALM Confidence: 0.056507404893636703\n"
     ]
    }
   ],
   "source": [
    "for emotion in response['FaceDetails'][0]['Emotions']:\n",
    "    print(emotion['Type'], 'Confidence:', emotion['Confidence'])"
   ]
  },
  {
   "cell_type": "code",
   "execution_count": 6,
   "metadata": {
    "ExecuteTime": {
     "end_time": "2021-02-19T02:04:04.932134Z",
     "start_time": "2021-02-19T02:04:04.926295Z"
    }
   },
   "outputs": [],
   "source": [
    "with open('../assets/images/anger.jpg', 'rb') as f:\n",
    "    image_bytes = f.read()"
   ]
  },
  {
   "cell_type": "code",
   "execution_count": 8,
   "metadata": {
    "ExecuteTime": {
     "end_time": "2020-12-14T23:23:11.023591Z",
     "start_time": "2020-12-14T23:23:10.510787Z"
    }
   },
   "outputs": [],
   "source": [
    "response = rekognition_client.detect_faces(\n",
    "    Image={'Bytes': image_bytes},\n",
    "    Attributes=['ALL']\n",
    ")"
   ]
  },
  {
   "cell_type": "code",
   "execution_count": 7,
   "metadata": {
    "ExecuteTime": {
     "end_time": "2021-02-20T00:15:57.834154Z",
     "start_time": "2021-02-20T00:15:57.814229Z"
    }
   },
   "outputs": [
    {
     "name": "stdout",
     "output_type": "stream",
     "text": [
      "HAPPY Confidence: 98.02332305908203\n",
      "SURPRISED Confidence: 0.4820031523704529\n",
      "FEAR Confidence: 0.41370725631713867\n",
      "ANGRY Confidence: 0.3769048750400543\n",
      "DISGUSTED Confidence: 0.2959006428718567\n",
      "CONFUSED Confidence: 0.2704017162322998\n",
      "SAD Confidence: 0.08125089108943939\n",
      "CALM Confidence: 0.056507404893636703\n"
     ]
    }
   ],
   "source": [
    "for emotion in response['FaceDetails'][0]['Emotions']:\n",
    "    print(emotion['Type'], 'Confidence:', emotion['Confidence'])"
   ]
  },
  {
   "cell_type": "code",
   "execution_count": 8,
   "metadata": {
    "ExecuteTime": {
     "end_time": "2021-02-20T00:16:02.636619Z",
     "start_time": "2021-02-20T00:16:02.609924Z"
    }
   },
   "outputs": [
    {
     "data": {
      "text/plain": [
       "{'FaceDetails': [{'BoundingBox': {'Width': 0.5052152872085571,\n",
       "    'Height': 0.7009648084640503,\n",
       "    'Left': 0.2665513753890991,\n",
       "    'Top': 0.12505298852920532},\n",
       "   'AgeRange': {'Low': 23, 'High': 35},\n",
       "   'Smile': {'Value': True, 'Confidence': 99.84452056884766},\n",
       "   'Eyeglasses': {'Value': False, 'Confidence': 93.156982421875},\n",
       "   'Sunglasses': {'Value': False, 'Confidence': 99.12419128417969},\n",
       "   'Gender': {'Value': 'Female', 'Confidence': 84.87661743164062},\n",
       "   'Beard': {'Value': False, 'Confidence': 98.41683197021484},\n",
       "   'Mustache': {'Value': False, 'Confidence': 99.44841003417969},\n",
       "   'EyesOpen': {'Value': True, 'Confidence': 98.50049591064453},\n",
       "   'MouthOpen': {'Value': True, 'Confidence': 99.71347045898438},\n",
       "   'Emotions': [{'Type': 'HAPPY', 'Confidence': 98.02332305908203},\n",
       "    {'Type': 'SURPRISED', 'Confidence': 0.4820031523704529},\n",
       "    {'Type': 'FEAR', 'Confidence': 0.41370725631713867},\n",
       "    {'Type': 'ANGRY', 'Confidence': 0.3769048750400543},\n",
       "    {'Type': 'DISGUSTED', 'Confidence': 0.2959006428718567},\n",
       "    {'Type': 'CONFUSED', 'Confidence': 0.2704017162322998},\n",
       "    {'Type': 'SAD', 'Confidence': 0.08125089108943939},\n",
       "    {'Type': 'CALM', 'Confidence': 0.056507404893636703}],\n",
       "   'Landmarks': [{'Type': 'eyeLeft',\n",
       "     'X': 0.43430882692337036,\n",
       "     'Y': 0.42584317922592163},\n",
       "    {'Type': 'eyeRight', 'X': 0.6652644872665405, 'Y': 0.41568276286125183},\n",
       "    {'Type': 'mouthLeft', 'X': 0.4592188894748688, 'Y': 0.6578821539878845},\n",
       "    {'Type': 'mouthRight', 'X': 0.6520207524299622, 'Y': 0.6489948034286499},\n",
       "    {'Type': 'nose', 'X': 0.5705345273017883, 'Y': 0.5456238389015198},\n",
       "    {'Type': 'leftEyeBrowLeft',\n",
       "     'X': 0.3398784399032593,\n",
       "     'Y': 0.37425169348716736},\n",
       "    {'Type': 'leftEyeBrowRight',\n",
       "     'X': 0.41605550050735474,\n",
       "     'Y': 0.34377050399780273},\n",
       "    {'Type': 'leftEyeBrowUp',\n",
       "     'X': 0.48646387457847595,\n",
       "     'Y': 0.3534126579761505},\n",
       "    {'Type': 'rightEyeBrowLeft',\n",
       "     'X': 0.6181833148002625,\n",
       "     'Y': 0.34797781705856323},\n",
       "    {'Type': 'rightEyeBrowRight',\n",
       "     'X': 0.6813386082649231,\n",
       "     'Y': 0.3326539099216461},\n",
       "    {'Type': 'rightEyeBrowUp',\n",
       "     'X': 0.7403842210769653,\n",
       "     'Y': 0.35680729150772095},\n",
       "    {'Type': 'leftEyeLeft', 'X': 0.39067649841308594, 'Y': 0.426253080368042},\n",
       "    {'Type': 'leftEyeRight',\n",
       "     'X': 0.47953006625175476,\n",
       "     'Y': 0.42567718029022217},\n",
       "    {'Type': 'leftEyeUp', 'X': 0.43411093950271606, 'Y': 0.41391533613204956},\n",
       "    {'Type': 'leftEyeDown', 'X': 0.4353586435317993, 'Y': 0.4359279274940491},\n",
       "    {'Type': 'rightEyeLeft',\n",
       "     'X': 0.6188812255859375,\n",
       "     'Y': 0.41960734128952026},\n",
       "    {'Type': 'rightEyeRight',\n",
       "     'X': 0.7032238245010376,\n",
       "     'Y': 0.4125068783760071},\n",
       "    {'Type': 'rightEyeUp', 'X': 0.6657723188400269, 'Y': 0.403800368309021},\n",
       "    {'Type': 'rightEyeDown', 'X': 0.663882315158844, 'Y': 0.4258187711238861},\n",
       "    {'Type': 'noseLeft', 'X': 0.5163505673408508, 'Y': 0.57284015417099},\n",
       "    {'Type': 'noseRight', 'X': 0.6014012098312378, 'Y': 0.5691382884979248},\n",
       "    {'Type': 'mouthUp', 'X': 0.5619538426399231, 'Y': 0.6265103220939636},\n",
       "    {'Type': 'mouthDown', 'X': 0.5611363053321838, 'Y': 0.6967039108276367},\n",
       "    {'Type': 'leftPupil', 'X': 0.43430882692337036, 'Y': 0.42584317922592163},\n",
       "    {'Type': 'rightPupil', 'X': 0.6652644872665405, 'Y': 0.41568276286125183},\n",
       "    {'Type': 'upperJawlineLeft',\n",
       "     'X': 0.2689777910709381,\n",
       "     'Y': 0.43248918652534485},\n",
       "    {'Type': 'midJawlineLeft',\n",
       "     'X': 0.32709571719169617,\n",
       "     'Y': 0.6843194961547852},\n",
       "    {'Type': 'chinBottom', 'X': 0.5565875768661499, 'Y': 0.8177733421325684},\n",
       "    {'Type': 'midJawlineRight',\n",
       "     'X': 0.7334647178649902,\n",
       "     'Y': 0.6667684316635132},\n",
       "    {'Type': 'upperJawlineRight',\n",
       "     'X': 0.7705382704734802,\n",
       "     'Y': 0.41105642914772034}],\n",
       "   'Pose': {'Roll': -2.339012384414673,\n",
       "    'Yaw': 6.115211009979248,\n",
       "    'Pitch': 1.5992066860198975},\n",
       "   'Quality': {'Brightness': 84.80684661865234,\n",
       "    'Sharpness': 92.22801208496094},\n",
       "   'Confidence': 99.99974060058594}],\n",
       " 'ResponseMetadata': {'RequestId': 'e417fe83-c4c1-4dac-919a-fd394a12bbc0',\n",
       "  'HTTPStatusCode': 200,\n",
       "  'HTTPHeaders': {'content-type': 'application/x-amz-json-1.1',\n",
       "   'date': 'Fri, 19 Feb 2021 02:03:54 GMT',\n",
       "   'x-amzn-requestid': 'e417fe83-c4c1-4dac-919a-fd394a12bbc0',\n",
       "   'content-length': '3351',\n",
       "   'connection': 'keep-alive'},\n",
       "  'RetryAttempts': 0}}"
      ]
     },
     "execution_count": 8,
     "metadata": {},
     "output_type": "execute_result"
    }
   ],
   "source": [
    "response"
   ]
  },
  {
   "cell_type": "code",
   "execution_count": null,
   "metadata": {},
   "outputs": [],
   "source": []
  }
 ],
 "metadata": {
  "kernelspec": {
   "display_name": "Python 3",
   "language": "python",
   "name": "python3"
  },
  "language_info": {
   "codemirror_mode": {
    "name": "ipython",
    "version": 3
   },
   "file_extension": ".py",
   "mimetype": "text/x-python",
   "name": "python",
   "nbconvert_exporter": "python",
   "pygments_lexer": "ipython3",
   "version": "3.8.6"
  }
 },
 "nbformat": 4,
 "nbformat_minor": 4
}
