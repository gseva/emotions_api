{
 "cells": [
  {
   "cell_type": "code",
   "execution_count": 3,
   "metadata": {
    "ExecuteTime": {
     "end_time": "2021-02-19T02:04:24.718249Z",
     "start_time": "2021-02-19T02:04:24.510809Z"
    }
   },
   "outputs": [],
   "source": [
    "import requests"
   ]
  },
  {
   "cell_type": "code",
   "execution_count": 27,
   "metadata": {
    "ExecuteTime": {
     "end_time": "2021-02-20T00:11:32.609161Z",
     "start_time": "2021-02-20T00:11:32.596495Z"
    }
   },
   "outputs": [],
   "source": [
    "api_key = 'quickstart-QUdJIGlzIGNvbWluZy4uLi4K'"
   ]
  },
  {
   "cell_type": "code",
   "execution_count": 24,
   "metadata": {
    "ExecuteTime": {
     "end_time": "2021-02-20T00:10:56.503590Z",
     "start_time": "2021-02-20T00:10:56.496091Z"
    }
   },
   "outputs": [],
   "source": [
    "def call_deepai_api(image_path):\n",
    "    with open(image_path, 'rb') as f:\n",
    "        image_bytes = f.read()\n",
    "        \n",
    "    return requests.post(\n",
    "        'https://api.deepai.org/api/facial-expression-recognition',\n",
    "        files={'image': image_bytes},\n",
    "        headers={'api-key': api_key}\n",
    "    )"
   ]
  },
  {
   "cell_type": "code",
   "execution_count": 25,
   "metadata": {
    "ExecuteTime": {
     "end_time": "2021-02-20T00:10:58.953999Z",
     "start_time": "2021-02-20T00:10:56.746583Z"
    }
   },
   "outputs": [],
   "source": [
    "resp = call_deepai_api('../assets/images/happiness.jpg')"
   ]
  },
  {
   "cell_type": "code",
   "execution_count": 26,
   "metadata": {
    "ExecuteTime": {
     "end_time": "2021-02-20T00:10:59.387068Z",
     "start_time": "2021-02-20T00:10:59.381137Z"
    }
   },
   "outputs": [
    {
     "data": {
      "text/plain": [
       "{'status': 'Out of free credits - please enter payment info in your dashboard: https://deepai.org/dashboard'}"
      ]
     },
     "execution_count": 26,
     "metadata": {},
     "output_type": "execute_result"
    }
   ],
   "source": [
    "resp.json()"
   ]
  },
  {
   "cell_type": "code",
   "execution_count": 13,
   "metadata": {
    "ExecuteTime": {
     "end_time": "2021-02-20T00:00:00.215260Z",
     "start_time": "2021-02-19T23:59:58.254206Z"
    }
   },
   "outputs": [],
   "source": [
    "resp2 = call_deepai_api('../assets/images/anger.jpg')"
   ]
  },
  {
   "cell_type": "code",
   "execution_count": 14,
   "metadata": {
    "ExecuteTime": {
     "end_time": "2021-02-20T00:00:00.234222Z",
     "start_time": "2021-02-20T00:00:00.217954Z"
    }
   },
   "outputs": [
    {
     "data": {
      "text/plain": [
       "{'id': 'e76647c4-6811-4264-a62a-2ef59fbe7831',\n",
       " 'output': {'expressions': [{'emotion': 'neutral',\n",
       "    'bounding_box': [97, 118, 187, 187],\n",
       "    'confidence': '0.72'}]}}"
      ]
     },
     "execution_count": 14,
     "metadata": {},
     "output_type": "execute_result"
    }
   ],
   "source": [
    "resp2.json()"
   ]
  },
  {
   "cell_type": "code",
   "execution_count": 28,
   "metadata": {
    "ExecuteTime": {
     "end_time": "2021-02-20T00:11:36.557824Z",
     "start_time": "2021-02-20T00:11:34.609559Z"
    }
   },
   "outputs": [],
   "source": [
    "resp3 = call_deepai_api('../assets/images/sadness.jpg')"
   ]
  },
  {
   "cell_type": "code",
   "execution_count": 29,
   "metadata": {
    "ExecuteTime": {
     "end_time": "2021-02-20T00:11:36.568944Z",
     "start_time": "2021-02-20T00:11:36.560357Z"
    }
   },
   "outputs": [
    {
     "data": {
      "text/plain": [
       "{'status': \"Looks like you're enjoying our API. Want to keep using it? Sign up to get an API Key that's as unique as you are. It's free! https://deepai.org/\"}"
      ]
     },
     "execution_count": 29,
     "metadata": {},
     "output_type": "execute_result"
    }
   ],
   "source": [
    "resp3.json()"
   ]
  }
 ],
 "metadata": {
  "kernelspec": {
   "display_name": "Python 3",
   "language": "python",
   "name": "python3"
  },
  "language_info": {
   "codemirror_mode": {
    "name": "ipython",
    "version": 3
   },
   "file_extension": ".py",
   "mimetype": "text/x-python",
   "name": "python",
   "nbconvert_exporter": "python",
   "pygments_lexer": "ipython3",
   "version": "3.8.6"
  }
 },
 "nbformat": 4,
 "nbformat_minor": 4
}
